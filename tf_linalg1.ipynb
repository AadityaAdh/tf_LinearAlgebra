{
  "nbformat": 4,
  "nbformat_minor": 0,
  "metadata": {
    "colab": {
      "provenance": [],
      "authorship_tag": "ABX9TyMftJsfnRd7R20vp3y91h6x",
      "include_colab_link": true
    },
    "kernelspec": {
      "name": "python3",
      "display_name": "Python 3"
    },
    "language_info": {
      "name": "python"
    }
  },
  "cells": [
    {
      "cell_type": "markdown",
      "metadata": {
        "id": "view-in-github",
        "colab_type": "text"
      },
      "source": [
        "<a href=\"https://colab.research.google.com/github/AadityaAdh/tf_LinearAlgebra/blob/main/tf_linalg1.ipynb\" target=\"_parent\"><img src=\"https://colab.research.google.com/assets/colab-badge.svg\" alt=\"Open In Colab\"/></a>"
      ]
    },
    {
      "cell_type": "code",
      "execution_count": null,
      "metadata": {
        "id": "mi8okW1vUfZH"
      },
      "outputs": [],
      "source": [
        "import tensorflow as tf"
      ]
    },
    {
      "cell_type": "markdown",
      "source": [
        "#Matrix multiplication tf.linalg.matmul\n",
        "\n",
        "\n",
        "Multiplies matrix a by matrix b, producing a * b.\n",
        "\n",
        "tf.linalg.matmul(\n",
        "\n",
        "\n",
        "    a,\n",
        "    b,\n",
        "    transpose_a=False,\n",
        "    transpose_b=False,\n",
        "    adjoint_a=False,\n",
        "    adjoint_b=False,\n",
        "    a_is_sparse=False,\n",
        "    b_is_sparse=False,\n",
        "    output_type=None,\n",
        "    name=None\n",
        ")\n",
        "\n",
        "a:\n",
        "\n",
        "\ttf.Tensor of type float16, float32, float64, int32, complex64, complex128 and rank > 1.\n",
        "b:\n",
        "\n",
        "\ttf.Tensor with same type and rank as a.\n",
        "transpose_a:\n",
        "\n",
        "\tIf True, a is transposed before multiplication.\n",
        "transpose_b:\n",
        "\n",
        "\tIf True, b is transposed before multiplication.\n",
        "adjoint_a:\n",
        "\n",
        "\tIf True, a is conjugated and transposed before multiplication.\n",
        "adjoint_b:\n",
        "\n",
        "\tIf True, b is conjugated and transposed before multiplication\n",
        "\n",
        "  yo garna ko lagi siddai a@b\n",
        "\n",
        "\n",
        "  @ vanyta matrix multiplication"
      ],
      "metadata": {
        "id": "HEeCvnAgVAb2"
      }
    },
    {
      "cell_type": "code",
      "source": [
        "a = tf.constant([1, 2, 3, 4, 5, 6], shape=[2, 3])\n",
        "a  # 2-D tensor\n",
        "\n",
        "\n",
        "\n",
        "b = tf.constant([7, 8, 9, 10, 11, 12], shape=[3, 2])\n",
        "b  # 2-D tensor\n",
        "\n",
        "\n",
        "\n",
        "\n",
        "c = tf.matmul(a, b)\n",
        "c # `a` * `b`\n",
        "\n",
        "\n"
      ],
      "metadata": {
        "colab": {
          "base_uri": "https://localhost:8080/"
        },
        "id": "_zaXZ7wgU9Ts",
        "outputId": "586d330a-63ab-44c4-e1f7-69b9058ce51c"
      },
      "execution_count": null,
      "outputs": [
        {
          "output_type": "execute_result",
          "data": {
            "text/plain": [
              "<tf.Tensor: shape=(2, 2), dtype=int32, numpy=\n",
              "array([[ 58,  64],\n",
              "       [139, 154]], dtype=int32)>"
            ]
          },
          "metadata": {},
          "execution_count": 9
        }
      ]
    },
    {
      "cell_type": "code",
      "source": [
        "#yei vaa ho obiviously\n",
        "print(1*7+2*9+3*11)"
      ],
      "metadata": {
        "colab": {
          "base_uri": "https://localhost:8080/"
        },
        "id": "1Qz3dMitWZ7c",
        "outputId": "8658ae68-33d0-45ad-f007-9ecb7e82cc26"
      },
      "execution_count": null,
      "outputs": [
        {
          "output_type": "stream",
          "name": "stdout",
          "text": [
            "58\n"
          ]
        }
      ]
    },
    {
      "cell_type": "code",
      "source": [
        "a@b\n",
        "#so same"
      ],
      "metadata": {
        "colab": {
          "base_uri": "https://localhost:8080/"
        },
        "id": "5VjfGjTKVtER",
        "outputId": "60716784-94f0-413a-8777-67e857bda83b"
      },
      "execution_count": null,
      "outputs": [
        {
          "output_type": "execute_result",
          "data": {
            "text/plain": [
              "<tf.Tensor: shape=(2, 2), dtype=int32, numpy=\n",
              "array([[ 58,  64],\n",
              "       [139, 154]], dtype=int32)>"
            ]
          },
          "metadata": {},
          "execution_count": 3
        }
      ]
    },
    {
      "cell_type": "code",
      "source": [
        "#3d multiplication\n",
        "import numpy as np\n",
        "a = tf.constant(np.arange(1, 13, dtype=np.int32), shape=[2, 2, 3])\n",
        "a  # 3-D tensor\n"
      ],
      "metadata": {
        "colab": {
          "base_uri": "https://localhost:8080/"
        },
        "id": "giPwi8pzVuWp",
        "outputId": "db3caa03-159f-47f0-fe72-b4b7434e40d8"
      },
      "execution_count": null,
      "outputs": [
        {
          "output_type": "execute_result",
          "data": {
            "text/plain": [
              "<tf.Tensor: shape=(2, 2, 3), dtype=int32, numpy=\n",
              "array([[[ 1,  2,  3],\n",
              "        [ 4,  5,  6]],\n",
              "\n",
              "       [[ 7,  8,  9],\n",
              "        [10, 11, 12]]], dtype=int32)>"
            ]
          },
          "metadata": {},
          "execution_count": 10
        }
      ]
    },
    {
      "cell_type": "code",
      "source": [
        "b = tf.constant(np.arange(13, 25, dtype=np.int32), shape=[2, 3, 2])\n",
        "b  # 3-D tensor\n",
        "\n"
      ],
      "metadata": {
        "colab": {
          "base_uri": "https://localhost:8080/"
        },
        "id": "UKT8XKC4V23E",
        "outputId": "862bacb8-cd36-43cf-fc15-80eb1234fc06"
      },
      "execution_count": null,
      "outputs": [
        {
          "output_type": "execute_result",
          "data": {
            "text/plain": [
              "<tf.Tensor: shape=(2, 3, 2), dtype=int32, numpy=\n",
              "array([[[13, 14],\n",
              "        [15, 16],\n",
              "        [17, 18]],\n",
              "\n",
              "       [[19, 20],\n",
              "        [21, 22],\n",
              "        [23, 24]]], dtype=int32)>"
            ]
          },
          "metadata": {},
          "execution_count": 11
        }
      ]
    },
    {
      "cell_type": "code",
      "source": [
        "\n",
        "c = tf.matmul(a, b)\n",
        "c  # `a` * `b`\n"
      ],
      "metadata": {
        "colab": {
          "base_uri": "https://localhost:8080/"
        },
        "id": "aQZV-urSXB3s",
        "outputId": "901f96d3-19a8-44d6-db93-90d426173292"
      },
      "execution_count": null,
      "outputs": [
        {
          "output_type": "execute_result",
          "data": {
            "text/plain": [
              "<tf.Tensor: shape=(2, 2, 2), dtype=int32, numpy=\n",
              "array([[[ 94, 100],\n",
              "        [229, 244]],\n",
              "\n",
              "       [[508, 532],\n",
              "        [697, 730]]], dtype=int32)>"
            ]
          },
          "metadata": {},
          "execution_count": 12
        }
      ]
    },
    {
      "cell_type": "code",
      "source": [
        "import matplotlib.pyplot as plt\n",
        "import matplotlib.image as mpimg\n",
        "\n",
        "# Load an image from a file\n",
        "\n",
        "img = mpimg.imread(\"1.png\")\n",
        "\n",
        "# Display the image\n",
        "plt.imshow(img)\n",
        "plt.show()\n"
      ],
      "metadata": {
        "colab": {
          "base_uri": "https://localhost:8080/",
          "height": 456
        },
        "id": "leliUQZCXDwU",
        "outputId": "6ef73caa-5d83-4ee6-c6be-81af2ebc7f39"
      },
      "execution_count": null,
      "outputs": [
        {
          "output_type": "display_data",
          "data": {
            "text/plain": [
              "<Figure size 640x480 with 1 Axes>"
            ],
            "image/png": "[encoded data removed]"
          },
          "metadata": {}
        }
      ]
    },
    {
      "cell_type": "code",
      "source": [
        "#so lets undersatnd it\n",
        "first_a=a[0,:,:]\n",
        "first_a"
      ],
      "metadata": {
        "colab": {
          "base_uri": "https://localhost:8080/"
        },
        "id": "ACg4QuxtXmap",
        "outputId": "78bf9c49-eb53-441e-9099-0babc9bed133"
      },
      "execution_count": null,
      "outputs": [
        {
          "output_type": "execute_result",
          "data": {
            "text/plain": [
              "<tf.Tensor: shape=(2, 3), dtype=int32, numpy=\n",
              "array([[1, 2, 3],\n",
              "       [4, 5, 6]], dtype=int32)>"
            ]
          },
          "metadata": {},
          "execution_count": 14
        }
      ]
    },
    {
      "cell_type": "code",
      "source": [
        "first_b=b[0,:,:]\n",
        "first_b"
      ],
      "metadata": {
        "colab": {
          "base_uri": "https://localhost:8080/"
        },
        "id": "lCz7MTPlX2i8",
        "outputId": "949b4036-4e43-484a-9f76-1ab65611fbb3"
      },
      "execution_count": null,
      "outputs": [
        {
          "output_type": "execute_result",
          "data": {
            "text/plain": [
              "<tf.Tensor: shape=(3, 2), dtype=int32, numpy=\n",
              "array([[13, 14],\n",
              "       [15, 16],\n",
              "       [17, 18]], dtype=int32)>"
            ]
          },
          "metadata": {},
          "execution_count": 15
        }
      ]
    },
    {
      "cell_type": "code",
      "source": [
        "a@b"
      ],
      "metadata": {
        "colab": {
          "base_uri": "https://localhost:8080/"
        },
        "id": "4kKF_9GzX6t1",
        "outputId": "176ef27e-010d-442c-85ca-ac396d6bc4aa"
      },
      "execution_count": null,
      "outputs": [
        {
          "output_type": "execute_result",
          "data": {
            "text/plain": [
              "<tf.Tensor: shape=(2, 2, 2), dtype=int32, numpy=\n",
              "array([[[ 94, 100],\n",
              "        [229, 244]],\n",
              "\n",
              "       [[508, 532],\n",
              "        [697, 730]]], dtype=int32)>"
            ]
          },
          "metadata": {},
          "execution_count": 16
        }
      ]
    },
    {
      "cell_type": "code",
      "source": [
        "first_a@first_b"
      ],
      "metadata": {
        "colab": {
          "base_uri": "https://localhost:8080/"
        },
        "id": "GyrI9xM5YAvs",
        "outputId": "99237b4e-f70d-4351-eb36-4a10f54ad00d"
      },
      "execution_count": null,
      "outputs": [
        {
          "output_type": "execute_result",
          "data": {
            "text/plain": [
              "<tf.Tensor: shape=(2, 2), dtype=int32, numpy=\n",
              "array([[ 94, 100],\n",
              "       [229, 244]], dtype=int32)>"
            ]
          },
          "metadata": {},
          "execution_count": 17
        }
      ]
    },
    {
      "cell_type": "markdown",
      "source": [
        "#which is 1st element of 3d multiplication\n",
        "#so in 3d [m1 m2]@[m3 m4]\n",
        "#then result=[m1@m3 m2@m4]"
      ],
      "metadata": {
        "id": "1hoRGHJUYWlt"
      }
    },
    {
      "cell_type": "code",
      "source": [
        "#matrix multiplication in 4d\n",
        "\n",
        "\n",
        "a_in4d = tf.constant(np.arange(1, 25, dtype=np.int32), shape=[2,2, 3, 2])\n",
        "a_in4d"
      ],
      "metadata": {
        "colab": {
          "base_uri": "https://localhost:8080/"
        },
        "id": "UGFF6Wr9YEel",
        "outputId": "287b336e-0511-4760-b6aa-55d16508b6d5"
      },
      "execution_count": null,
      "outputs": [
        {
          "output_type": "execute_result",
          "data": {
            "text/plain": [
              "<tf.Tensor: shape=(2, 2, 3, 2), dtype=int32, numpy=\n",
              "array([[[[ 1,  2],\n",
              "         [ 3,  4],\n",
              "         [ 5,  6]],\n",
              "\n",
              "        [[ 7,  8],\n",
              "         [ 9, 10],\n",
              "         [11, 12]]],\n",
              "\n",
              "\n",
              "       [[[13, 14],\n",
              "         [15, 16],\n",
              "         [17, 18]],\n",
              "\n",
              "        [[19, 20],\n",
              "         [21, 22],\n",
              "         [23, 24]]]], dtype=int32)>"
            ]
          },
          "metadata": {},
          "execution_count": 23
        }
      ]
    },
    {
      "cell_type": "code",
      "source": [
        "b_in4d = tf.constant(np.arange(25, 49, dtype=np.int32), shape=[2,2, 2, 3])\n",
        "b_in4d"
      ],
      "metadata": {
        "colab": {
          "base_uri": "https://localhost:8080/"
        },
        "id": "zjHkGRvPZkRf",
        "outputId": "42066781-9a23-4c1e-9b3b-90215115fa93"
      },
      "execution_count": null,
      "outputs": [
        {
          "output_type": "execute_result",
          "data": {
            "text/plain": [
              "<tf.Tensor: shape=(2, 2, 2, 3), dtype=int32, numpy=\n",
              "array([[[[25, 26, 27],\n",
              "         [28, 29, 30]],\n",
              "\n",
              "        [[31, 32, 33],\n",
              "         [34, 35, 36]]],\n",
              "\n",
              "\n",
              "       [[[37, 38, 39],\n",
              "         [40, 41, 42]],\n",
              "\n",
              "        [[43, 44, 45],\n",
              "         [46, 47, 48]]]], dtype=int32)>"
            ]
          },
          "metadata": {},
          "execution_count": 24
        }
      ]
    },
    {
      "cell_type": "code",
      "source": [
        "a_in4d@b_in4d"
      ],
      "metadata": {
        "colab": {
          "base_uri": "https://localhost:8080/"
        },
        "id": "n1hf-_XwZ7pN",
        "outputId": "bdaaee9a-68ec-47b7-f465-afad54dd516a"
      },
      "execution_count": null,
      "outputs": [
        {
          "output_type": "execute_result",
          "data": {
            "text/plain": [
              "<tf.Tensor: shape=(2, 2, 3, 3), dtype=int32, numpy=\n",
              "array([[[[  81,   84,   87],\n",
              "         [ 187,  194,  201],\n",
              "         [ 293,  304,  315]],\n",
              "\n",
              "        [[ 489,  504,  519],\n",
              "         [ 619,  638,  657],\n",
              "         [ 749,  772,  795]]],\n",
              "\n",
              "\n",
              "       [[[1041, 1068, 1095],\n",
              "         [1195, 1226, 1257],\n",
              "         [1349, 1384, 1419]],\n",
              "\n",
              "        [[1737, 1776, 1815],\n",
              "         [1915, 1958, 2001],\n",
              "         [2093, 2140, 2187]]]], dtype=int32)>"
            ]
          },
          "metadata": {},
          "execution_count": 25
        }
      ]
    },
    {
      "cell_type": "markdown",
      "source": [
        "#simply matrix to another matrix in same place multiply vako xa"
      ],
      "metadata": {
        "id": "IDNMctelsPuK"
      }
    },
    {
      "cell_type": "code",
      "source": [
        "a_first4d=a_in4d[0,0,:,:]\n",
        "a_first4d\n"
      ],
      "metadata": {
        "colab": {
          "base_uri": "https://localhost:8080/"
        },
        "id": "4NO6X34pr5Vl",
        "outputId": "6875f695-d23d-45dd-b1ee-f2bd2d606ff9"
      },
      "execution_count": null,
      "outputs": [
        {
          "output_type": "execute_result",
          "data": {
            "text/plain": [
              "<tf.Tensor: shape=(3, 2), dtype=int32, numpy=\n",
              "array([[1, 2],\n",
              "       [3, 4],\n",
              "       [5, 6]], dtype=int32)>"
            ]
          },
          "metadata": {},
          "execution_count": 26
        }
      ]
    },
    {
      "cell_type": "code",
      "source": [
        "b_first4d=b_in4d[0,0,:,:]\n",
        "b_first4d"
      ],
      "metadata": {
        "colab": {
          "base_uri": "https://localhost:8080/"
        },
        "id": "gC1JjHzCscLX",
        "outputId": "b672bd72-2aea-442d-fecc-2aa92f081753"
      },
      "execution_count": null,
      "outputs": [
        {
          "output_type": "execute_result",
          "data": {
            "text/plain": [
              "<tf.Tensor: shape=(2, 3), dtype=int32, numpy=\n",
              "array([[25, 26, 27],\n",
              "       [28, 29, 30]], dtype=int32)>"
            ]
          },
          "metadata": {},
          "execution_count": 27
        }
      ]
    },
    {
      "cell_type": "code",
      "source": [
        "a_first4d@b_first4d"
      ],
      "metadata": {
        "colab": {
          "base_uri": "https://localhost:8080/"
        },
        "id": "IVtpQU6Ash-_",
        "outputId": "b9ee5676-342e-417d-c5db-a9a2053662dc"
      },
      "execution_count": null,
      "outputs": [
        {
          "output_type": "execute_result",
          "data": {
            "text/plain": [
              "<tf.Tensor: shape=(3, 3), dtype=int32, numpy=\n",
              "array([[ 81,  84,  87],\n",
              "       [187, 194, 201],\n",
              "       [293, 304, 315]], dtype=int32)>"
            ]
          },
          "metadata": {},
          "execution_count": 28
        }
      ]
    },
    {
      "cell_type": "code",
      "source": [
        "#so corresponding matrix multipky hudo raixa"
      ],
      "metadata": {
        "id": "P45YFw7GsoPH"
      },
      "execution_count": null,
      "outputs": []
    },
    {
      "cell_type": "markdown",
      "source": [
        "#Transpose :tf.linalg.matrix_transpose\n",
        "\n",
        "\n",
        "#Transposes last two dimensions of tensor a.\n",
        "#so jati dimension badaye ni vitri matrix ko transpose huni ho\n",
        "ie\n",
        "x.shape is [1, 2, 3, 4]\n",
        "tf.linalg.matrix_transpose(x) is shape [1, 2, 4, 3]\n",
        "\n",
        "(3,4), (4,3) vako matrai ho"
      ],
      "metadata": {
        "id": "8rm1ymh1tK-H"
      }
    },
    {
      "cell_type": "code",
      "source": [
        "x = tf.constant([[1, 2, 3], [4, 5, 6]])\n",
        "tf.linalg.matrix_transpose(x)\n"
      ],
      "metadata": {
        "colab": {
          "base_uri": "https://localhost:8080/"
        },
        "id": "_cxAIk9Esv-b",
        "outputId": "b5f7a4cb-282a-4fae-897d-0f2b01c431d2"
      },
      "execution_count": null,
      "outputs": [
        {
          "output_type": "execute_result",
          "data": {
            "text/plain": [
              "<tf.Tensor: shape=(3, 2), dtype=int32, numpy=\n",
              "array([[1, 4],\n",
              "       [2, 5],\n",
              "       [3, 6]], dtype=int32)>"
            ]
          },
          "metadata": {},
          "execution_count": 30
        }
      ]
    },
    {
      "cell_type": "markdown",
      "source": [
        "#Matrix multiplication ma cross product vanya element wise product ho like a11*b11=c11"
      ],
      "metadata": {
        "id": "U50478b1u0mq"
      }
    },
    {
      "cell_type": "markdown",
      "source": [
        "# Determinant: tf.linalg.det\n",
        "#Note :determinant nikalna lagya matrix ko dtype int hunu hunna\n",
        "\n",
        "input Must be one of the following types: half, float32, float64, complex64, complex128. Shape is [..., M, M].\n",
        "\n",
        "Computes the determinant of one or more square matrices\n",
        "\n"
      ],
      "metadata": {
        "id": "CrDG2-InvEM2"
      }
    },
    {
      "cell_type": "code",
      "source": [
        "a_in2d=tf.constant(np.arange(1,10),shape=[3,3],dtype=tf.float32)\n",
        "a_in2d"
      ],
      "metadata": {
        "colab": {
          "base_uri": "https://localhost:8080/"
        },
        "id": "PN5EzIWNtytA",
        "outputId": "64e471cb-20a6-46cb-8b1c-b225559b4cb0"
      },
      "execution_count": null,
      "outputs": [
        {
          "output_type": "execute_result",
          "data": {
            "text/plain": [
              "<tf.Tensor: shape=(3, 3), dtype=float32, numpy=\n",
              "array([[1., 2., 3.],\n",
              "       [4., 5., 6.],\n",
              "       [7., 8., 9.]], dtype=float32)>"
            ]
          },
          "metadata": {},
          "execution_count": 39
        }
      ]
    },
    {
      "cell_type": "code",
      "source": [
        "tf.linalg.det(a_in2d).numpy()"
      ],
      "metadata": {
        "colab": {
          "base_uri": "https://localhost:8080/"
        },
        "id": "2X2iQ10jvVM0",
        "outputId": "c165453f-cce8-4146-b216-1e2230d952b3"
      },
      "execution_count": null,
      "outputs": [
        {
          "output_type": "execute_result",
          "data": {
            "text/plain": [
              "0.0"
            ]
          },
          "metadata": {},
          "execution_count": 41
        }
      ]
    },
    {
      "cell_type": "markdown",
      "source": [
        "#Matrix inverse:tf. linalg.inv\n",
        "\n",
        "#to  caluclate the inverse check matrix determinant first\n",
        "yedi determinant  zero xaina vanae matrai inverse aauxa\n",
        "\n",
        "a matrix is invertible if and only if its determinant is non-zero.\n",
        "\n",
        "\n",
        "\n",
        "\n",
        "Computes the inverse of one or more square invertible matrices or their adjoints (conjugate transposes).\n",
        "\n",
        "\n",
        "tf.linalg.inv(\n",
        "\n",
        "\n",
        "    your_matrix: but values should not be int same as above\n",
        ")\n",
        "\n",
        "Must be one of the following types: float64, float32, half, complex64, complex128. Shape is [..., M, M].\n",
        "\n",
        "\n",
        "\n",
        "\n"
      ],
      "metadata": {
        "id": "PfYN7B5_05DQ"
      }
    },
    {
      "cell_type": "code",
      "source": [
        "import random\n",
        "a_in3d=tf.constant(np.random.randint(6,24,size=(2,3,3)),dtype=tf.float32)\n",
        "a_in3d"
      ],
      "metadata": {
        "colab": {
          "base_uri": "https://localhost:8080/"
        },
        "id": "6t9bkYwpvyhT",
        "outputId": "dc6181c6-a8ec-4b13-f203-76896e2b7f44"
      },
      "execution_count": null,
      "outputs": [
        {
          "output_type": "execute_result",
          "data": {
            "text/plain": [
              "<tf.Tensor: shape=(2, 3, 3), dtype=float32, numpy=\n",
              "array([[[10., 21., 18.],\n",
              "        [21., 16., 22.],\n",
              "        [ 7., 14., 21.]],\n",
              "\n",
              "       [[ 6.,  6., 17.],\n",
              "        [15., 20., 15.],\n",
              "        [ 9., 20.,  6.]]], dtype=float32)>"
            ]
          },
          "metadata": {},
          "execution_count": 56
        }
      ]
    },
    {
      "cell_type": "code",
      "source": [
        "inv_ain3d=tf.linalg.inv(a_in3d)\n",
        "inv_ain3d"
      ],
      "metadata": {
        "colab": {
          "base_uri": "https://localhost:8080/"
        },
        "id": "ERlzv2lZ1mVi",
        "outputId": "e7bfe1f9-8e4a-433a-f16b-00a898029fde"
      },
      "execution_count": null,
      "outputs": [
        {
          "output_type": "execute_result",
          "data": {
            "text/plain": [
              "<tf.Tensor: shape=(2, 3, 3), dtype=float32, numpy=\n",
              "array([[[-0.01133145,  0.07648726, -0.07041684],\n",
              "        [ 0.1161473 , -0.03399433, -0.06394172],\n",
              "        [-0.07365438, -0.00283287,  0.11371914]],\n",
              "\n",
              "       [[-0.14634146,  0.24715449, -0.20325205],\n",
              "        [ 0.03658536, -0.09512195,  0.13414635],\n",
              "        [ 0.09756097, -0.05365854,  0.02439024]]], dtype=float32)>"
            ]
          },
          "metadata": {},
          "execution_count": 58
        }
      ]
    },
    {
      "cell_type": "markdown",
      "source": [
        "#so jati dimension vayae ni vitra matrix ko inverse hunxa"
      ],
      "metadata": {
        "id": "uToCpBYO4LJs"
      }
    },
    {
      "cell_type": "code",
      "source": [],
      "metadata": {
        "id": "jouEm1aP3et7"
      },
      "execution_count": null,
      "outputs": []
    }
  ]
}